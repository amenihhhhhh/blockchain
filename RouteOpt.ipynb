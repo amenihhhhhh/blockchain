{
 "cells": [
  {
   "cell_type": "code",
   "execution_count": 1,
   "metadata": {},
   "outputs": [],
   "source": [
    "import random"
   ]
  },
  {
   "cell_type": "markdown",
   "metadata": {},
   "source": [
    "# Constants"
   ]
  },
  {
   "cell_type": "code",
   "execution_count": 2,
   "metadata": {},
   "outputs": [],
   "source": [
    "POPULATION_SIZE = 20\n",
    "NUM_TYPE_NODES = 3\n",
    "NUM_MAN = 2\n",
    "NUM_WHO = 3\n",
    "NUM_RET = 2"
   ]
  },
  {
   "cell_type": "code",
   "execution_count": 3,
   "metadata": {},
   "outputs": [],
   "source": [
    "# In hundreds\n",
    "production_cost = [54, 76]\n",
    "man_to_who_cost = [\n",
    "    [10, 45, 72],\n",
    "    [21, 54, 37]\n",
    "]\n",
    "who_to_ret_cost = [\n",
    "    [26, 54],\n",
    "    [34, 56],\n",
    "    [12, 39]\n",
    "]\n",
    "\n",
    "# In hours\n",
    "production_time = [24, 32]\n",
    "man_to_who_time = [\n",
    "    [12, 16, 14],\n",
    "    [15, 13, 11],\n",
    "    [14, 10, 17]\n",
    "]\n",
    "who_to_ret_time = [\n",
    "    [5, 9],\n",
    "    [4, 6],\n",
    "    [8, 2]\n",
    "]"
   ]
  },
  {
   "cell_type": "markdown",
   "metadata": {},
   "source": [
    "# Functions for GA"
   ]
  },
  {
   "cell_type": "code",
   "execution_count": 4,
   "metadata": {},
   "outputs": [],
   "source": [
    "def get_chromosome():\n",
    "    chromosome = []\n",
    "    chromosome.append(random.randint(0, NUM_MAN-1))\n",
    "    chromosome.append(random.randint(0, NUM_WHO-1))\n",
    "    chromosome.append(random.randint(0, NUM_RET-1))\n",
    "    return chromosome"
   ]
  },
  {
   "cell_type": "code",
   "execution_count": 5,
   "metadata": {},
   "outputs": [],
   "source": [
    "def cal_fitness(chromosome):\n",
    "    cost = 0\n",
    "    cost += production_cost[chromosome[0]]\n",
    "    cost += man_to_who_cost[chromosome[0]][chromosome[1]]\n",
    "    cost += who_to_ret_cost[chromosome[1]][chromosome[2]]\n",
    "    \n",
    "    time = 0\n",
    "    time += production_time[chromosome[0]]\n",
    "    time += man_to_who_time[chromosome[0]][chromosome[1]]\n",
    "    time += who_to_ret_time[chromosome[1]][chromosome[2]]\n",
    "    \n",
    "    return float(1000/(1+cost+time))"
   ]
  },
  {
   "cell_type": "code",
   "execution_count": 6,
   "metadata": {},
   "outputs": [],
   "source": [
    "class Individual:\n",
    "    def __init__(self, chromosome=None):\n",
    "        if chromosome is None:\n",
    "            self.chromosome = get_chromosome()\n",
    "        else :\n",
    "            self.chromosome = chromosome\n",
    "        self.fitness = cal_fitness(self.chromosome)\n",
    "    # Operator overloading to sort according to fitness\n",
    "    def __lt__(self, other):\n",
    "        return self.fitness>other.fitness"
   ]
  },
  {
   "cell_type": "code",
   "execution_count": 7,
   "metadata": {},
   "outputs": [],
   "source": [
    "def generate_initial_population():\n",
    "    population = []\n",
    "    i = 0\n",
    "    while (i < POPULATION_SIZE):\n",
    "        population.append(Individual())\n",
    "        i += 1\n",
    "    return population"
   ]
  },
  {
   "cell_type": "code",
   "execution_count": 8,
   "metadata": {},
   "outputs": [
    {
     "name": "stdout",
     "output_type": "stream",
     "text": [
      "[1, 0, 0]\n",
      "[0, 1, 1]\n",
      "[0, 1, 1]\n",
      "[0, 0, 1]\n",
      "[0, 1, 0]\n",
      "[1, 1, 0]\n",
      "[1, 2, 1]\n",
      "[0, 1, 1]\n",
      "[0, 0, 1]\n",
      "[0, 1, 0]\n",
      "[1, 2, 1]\n",
      "[1, 2, 0]\n",
      "[1, 2, 0]\n",
      "[1, 1, 1]\n",
      "[0, 1, 0]\n",
      "[1, 2, 1]\n",
      "[1, 0, 1]\n",
      "[0, 1, 1]\n",
      "[1, 2, 0]\n",
      "[0, 0, 1]\n"
     ]
    }
   ],
   "source": [
    "pop = generate_initial_population()\n",
    "for i in pop:\n",
    "    print(i.chromosome)"
   ]
  },
  {
   "cell_type": "code",
   "execution_count": 9,
   "metadata": {},
   "outputs": [],
   "source": [
    "def crossover (parent1, parent2):\n",
    "    child_chromosome = []\n",
    "    for i in range(NUM_TYPE_NODES):\n",
    "        prob = random.randint(0,100)\n",
    "        if (prob < 49):\n",
    "            # Take gene from parent 1\n",
    "            child_chromosome.append(parent1.chromosome[i])\n",
    "        elif (prob <= 98):\n",
    "            # Take gene from parent 2\n",
    "            child_chromosome.append(parent2.chromosome[i])\n",
    "        else :\n",
    "            # Perform mutation\n",
    "            if (i==0):\n",
    "                child_chromosome.append(random.randint(0,NUM_MAN-1))\n",
    "            elif (i==1):\n",
    "                child_chromosome.append(random.randint(0, NUM_WHO-1))\n",
    "            else:\n",
    "                child_chromosome.append(random.randint(0, NUM_RET-1))\n",
    "    return Individual(chromosome = child_chromosome)"
   ]
  },
  {
   "cell_type": "code",
   "execution_count": 10,
   "metadata": {},
   "outputs": [],
   "source": [
    "def find_population_fitness(population):\n",
    "    sum_fitness = 0\n",
    "    for i in population:\n",
    "        sum_fitness += i.fitness\n",
    "    return float(sum_fitness/POPULATION_SIZE)"
   ]
  },
  {
   "cell_type": "markdown",
   "metadata": {},
   "source": [
    "# Main Function"
   ]
  },
  {
   "cell_type": "code",
   "execution_count": 11,
   "metadata": {},
   "outputs": [],
   "source": [
    "def run_ga():\n",
    "    generation = 0\n",
    "    population = generate_initial_population()\n",
    "    pvs_avg_fitness = 0\n",
    "    new_avg_fitness = find_population_fitness(population)\n",
    "    print(\"Generation: 0\" + \" Fitness: \" + str(new_avg_fitness))\n",
    "    while (abs(new_avg_fitness - pvs_avg_fitness) > 0.001):       \n",
    "        population.sort()\n",
    "        new_generation = []\n",
    "        \n",
    "        # Elitism, i.e, 10% of fittest population sent to next gen\n",
    "        size = int(0.1 * POPULATION_SIZE)\n",
    "        for i in range(size):\n",
    "            new_generation.append(population[i])\n",
    "        # Rest 90% formed by mating amongst the fittest 50%\n",
    "        size = int(0.9 * POPULATION_SIZE)\n",
    "        for i in range(size):\n",
    "            r = random.randint(0,POPULATION_SIZE/2)\n",
    "            parent1 = population[r]\n",
    "            r = random.randint(0,POPULATION_SIZE/2)\n",
    "            parent2 = population[r]\n",
    "            new_generation.append(crossover(parent1, parent2))\n",
    "        population = new_generation\n",
    "        pvs_avg_fitness = new_avg_fitness\n",
    "        new_avg_fitness = find_population_fitness(population)\n",
    "        generation += 1\n",
    "        print(\"Generation: \" + str(generation) + \" Fitness: \" + str(new_avg_fitness))\n",
    "    print(\"Solution chromosome: \")\n",
    "    print(population[0].chromosome)"
   ]
  },
  {
   "cell_type": "code",
   "execution_count": 12,
   "metadata": {},
   "outputs": [
    {
     "name": "stdout",
     "output_type": "stream",
     "text": [
      "Generation: 0 Fitness: 5.130685180472252\n",
      "Generation: 1 Fitness: 5.691948009840677\n",
      "Generation: 2 Fitness: 6.042950693374422\n",
      "Generation: 3 Fitness: 6.721879815100155\n",
      "Generation: 4 Fitness: 7.575757575757575\n",
      "Generation: 5 Fitness: 7.575757575757575\n",
      "Solution chromosome: \n",
      "[0, 0, 0]\n"
     ]
    }
   ],
   "source": [
    "run_ga()"
   ]
  },
  {
   "cell_type": "markdown",
   "metadata": {},
   "source": [
    "# Result"
   ]
  },
  {
   "cell_type": "markdown",
   "metadata": {},
   "source": [
    "This means that the optimum route is obtained by choosing the manufacturer 1, wholesaler 1 and retailer 1. "
   ]
  },
  {
   "cell_type": "code",
   "execution_count": null,
   "metadata": {},
   "outputs": [],
   "source": []
  }
 ],
 "metadata": {
  "kernelspec": {
   "display_name": "Python 3",
   "language": "python",
   "name": "python3"
  },
  "language_info": {
   "codemirror_mode": {
    "name": "ipython",
    "version": 3
   },
   "file_extension": ".py",
   "mimetype": "text/x-python",
   "name": "python",
   "nbconvert_exporter": "python",
   "pygments_lexer": "ipython3",
   "version": "3.7.1"
  }
 },
 "nbformat": 4,
 "nbformat_minor": 2
}
