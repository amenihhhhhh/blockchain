{
 "cells": [
  {
   "cell_type": "markdown",
   "metadata": {},
   "source": [
    "# Defining nodes"
   ]
  },
  {
   "cell_type": "code",
   "execution_count": 199,
   "metadata": {},
   "outputs": [],
   "source": [
    "import numpy as np\n",
    "import threading\n",
    "import random\n",
    "from time import sleep"
   ]
  },
  {
   "cell_type": "code",
   "execution_count": 200,
   "metadata": {},
   "outputs": [],
   "source": [
    "class good:\n",
    "    def __init__ (self, id):\n",
    "        self.good_id = id"
   ]
  },
  {
   "cell_type": "code",
   "execution_count": 201,
   "metadata": {},
   "outputs": [],
   "source": [
    "class Manufacturer:\n",
    "    def __init__(self):\n",
    "        self.num_goods = 0\n",
    "    def produce(self):\n",
    "        self.num_goods+=1\n",
    "        good_produced = good(self.num_goods)\n",
    "        print(\"Manufacturer produced good \"+ str(good_produced.good_id))\n",
    "        return good_produced"
   ]
  },
  {
   "cell_type": "code",
   "execution_count": 202,
   "metadata": {},
   "outputs": [],
   "source": [
    "class Wholesaler:\n",
    "    def __init__(self):\n",
    "        self.curr_goods = 0\n",
    "    def receive(self, good_received):\n",
    "        self.curr_goods+=1\n",
    "        print(\"Wholesaler received good \" + str(good_received.good_id))\n",
    "    def send(self, good_sent):\n",
    "        self.curr_goods-=1\n",
    "        print(\"Wholesaler sent good \" + str(good_sent.good_id))"
   ]
  },
  {
   "cell_type": "code",
   "execution_count": 203,
   "metadata": {},
   "outputs": [],
   "source": [
    "class Retailer:\n",
    "    def __init__(self):\n",
    "        self.stock_goods = 0\n",
    "    def receive(self, good_received):\n",
    "        self.stock_goods+=1\n",
    "        print(\"Retailer received good \" + str(good_received.good_id))"
   ]
  },
  {
   "cell_type": "code",
   "execution_count": null,
   "metadata": {},
   "outputs": [],
   "source": []
  },
  {
   "cell_type": "markdown",
   "metadata": {},
   "source": [
    "# Simulating the Supply Chain"
   ]
  },
  {
   "cell_type": "code",
   "execution_count": 204,
   "metadata": {},
   "outputs": [],
   "source": [
    "man = Manufacturer()\n",
    "who = Wholesaler()\n",
    "ret = Retailer()"
   ]
  },
  {
   "cell_type": "code",
   "execution_count": 205,
   "metadata": {},
   "outputs": [],
   "source": [
    "stock_of_goods = []  "
   ]
  },
  {
   "cell_type": "code",
   "execution_count": 206,
   "metadata": {},
   "outputs": [],
   "source": [
    "def manufacture():\n",
    "    for i in range(5):\n",
    "        new_good = man.produce()\n",
    "        stock_of_goods.append(new_good)\n",
    "        t = random.randint(1,5)\n",
    "        sleep(t/100)"
   ]
  },
  {
   "cell_type": "code",
   "execution_count": 207,
   "metadata": {},
   "outputs": [],
   "source": [
    "def begin_chain ():\n",
    "    cnt_completed = 0\n",
    "    while (cnt_completed != 5):\n",
    "        if (len(stock_of_goods) != 0):\n",
    "            new_good = stock_of_goods.pop(0)\n",
    "            who.receive(new_good)\n",
    "            t = random.randint(1,5)\n",
    "            sleep(t/100)\n",
    "            who.send(new_good)\n",
    "            t = random.randint(1,5)\n",
    "            sleep(t/100)\n",
    "            ret.receive(new_good)\n",
    "            cnt_completed += 1"
   ]
  },
  {
   "cell_type": "markdown",
   "metadata": {},
   "source": [
    "# Main function"
   ]
  },
  {
   "cell_type": "code",
   "execution_count": 208,
   "metadata": {},
   "outputs": [
    {
     "name": "stdout",
     "output_type": "stream",
     "text": [
      "Manufacturer produced good 1\n",
      "Wholesaler received good 1\n",
      "Wholesaler sent good 1\n",
      "Manufacturer produced good 2\n",
      "Retailer received good 1\n",
      "Wholesaler received good 2\n",
      "Manufacturer produced good 3\n",
      "Wholesaler sent good 2\n",
      "Manufacturer produced good 4\n",
      "Retailer received good 2\n",
      "Wholesaler received good 3\n",
      "Manufacturer produced good 5\n",
      "Wholesaler sent good 3\n",
      "Retailer received good 3\n",
      "Wholesaler received good 4\n",
      "Wholesaler sent good 4\n",
      "Retailer received good 4\n",
      "Wholesaler received good 5\n",
      "Wholesaler sent good 5\n",
      "Retailer received good 5\n",
      "Ended\n"
     ]
    }
   ],
   "source": [
    "t1 = threading.Thread(target=manufacture)\n",
    "t2 = threading.Thread(target=begin_chain)\n",
    "t1.start()\n",
    "t2.start()\n",
    "t1.join()\n",
    "t2.join()\n",
    "print(\"Ended\")"
   ]
  },
  {
   "cell_type": "code",
   "execution_count": null,
   "metadata": {},
   "outputs": [],
   "source": []
  }
 ],
 "metadata": {
  "kernelspec": {
   "display_name": "Python 3",
   "language": "python",
   "name": "python3"
  },
  "language_info": {
   "codemirror_mode": {
    "name": "ipython",
    "version": 3
   },
   "file_extension": ".py",
   "mimetype": "text/x-python",
   "name": "python",
   "nbconvert_exporter": "python",
   "pygments_lexer": "ipython3",
   "version": "3.7.1"
  }
 },
 "nbformat": 4,
 "nbformat_minor": 2
}
